{
 "cells": [
  {
   "cell_type": "code",
   "execution_count": 15,
   "id": "07fe6795",
   "metadata": {},
   "outputs": [],
   "source": [
    "from imblearn.over_sampling import SMOTE\n",
    "from numpy import loadtxt\n",
    "from xgboost import XGBClassifier\n",
    "from xgboost import plot_importance\n",
    "from matplotlib import pyplot\n",
    "from sklearn.svm import SVC\n",
    "from sklearn.ensemble import BaggingClassifier\n",
    "from sklearn.datasets import make_classification\n",
    "from sklearn import model_selection\n",
    "from sklearn.metrics import confusion_matrix, classification_report\n",
    "from sklearn.model_selection import KFold, cross_val_score, GridSearchCV, train_test_split\n",
    "from numpy import loadtxt\n",
    "from numpy import sort\n",
    "from xgboost import XGBClassifier\n",
    "from sklearn.model_selection import train_test_split\n",
    "from sklearn.metrics import accuracy_score\n",
    "from sklearn.feature_selection import SelectFromModel\n",
    "from pandas import read_csv\n",
    "from sklearn.feature_selection import RFE\n",
    "from sklearn.linear_model import LogisticRegression\n",
    "from sklearn.ensemble import RandomForestClassifier\n",
    "from dtreeplt import dtreeplt\n",
    "from statsmodels import api as sm\n",
    "from sklearn.model_selection import GridSearchCV\n",
    "from sklearn.metrics import recall_score, f1_score, confusion_matrix\n",
    "from sklearn import metrics\n",
    "from sklearn.preprocessing import OrdinalEncoder\n",
    "from sklearn.impute import KNNImputer\n",
    "import scipy.stats as ss"
   ]
  },
  {
   "cell_type": "code",
   "execution_count": 16,
   "id": "d91c61c8",
   "metadata": {},
   "outputs": [],
   "source": [
    "import pandas as pd\n",
    "import numpy as np\n",
    "import matplotlib.pyplot as plt\n",
    "import seaborn as sns\n",
    "import scipy.stats as stats\n",
    "from sklearn.linear_model import LogisticRegression\n",
    "from sklearn.tree import DecisionTreeClassifier\n",
    "from sklearn.neighbors import KNeighborsClassifier\n",
    "from sklearn.svm import SVC\n",
    "from sklearn.ensemble import RandomForestClassifier\n",
    "from sklearn.discriminant_analysis import LinearDiscriminantAnalysis\n",
    "from sklearn.naive_bayes import GaussianNB\n",
    "from xgboost import XGBClassifier"
   ]
  },
  {
   "cell_type": "code",
   "execution_count": 17,
   "id": "e5dbda59",
   "metadata": {},
   "outputs": [],
   "source": [
    "df_encoded = pd.read_csv(\"C:/Users/neeru/Downloads/marketing_project/Customer_details_encoded.csv\")"
   ]
  },
  {
   "cell_type": "markdown",
   "id": "8172c994",
   "metadata": {},
   "source": [
    "## Train Test Split"
   ]
  },
  {
   "cell_type": "code",
   "execution_count": 18,
   "id": "888bb825",
   "metadata": {},
   "outputs": [],
   "source": [
    "x=df_encoded.iloc[:, :-1]\n",
    "y=df_encoded[\"target\"]\n",
    "# Target variable: 'target'\n",
    "x_train, x_test, y_train, y_test= train_test_split(x, y, test_size=0.2, random_state=10)"
   ]
  },
  {
   "cell_type": "markdown",
   "id": "ba8cca53",
   "metadata": {},
   "source": [
    "## SMOTE"
   ]
  },
  {
   "cell_type": "code",
   "execution_count": 19,
   "id": "12d16cc7",
   "metadata": {},
   "outputs": [],
   "source": [
    "s = SMOTE(random_state = 6)"
   ]
  },
  {
   "cell_type": "code",
   "execution_count": 20,
   "id": "cc623d2e",
   "metadata": {},
   "outputs": [],
   "source": [
    "x_train_smote, y_train_smote=s.fit_resample(x_train, y_train)"
   ]
  },
  {
   "cell_type": "markdown",
   "id": "155d0f94",
   "metadata": {},
   "source": [
    "## DTree with SMOTE"
   ]
  },
  {
   "cell_type": "code",
   "execution_count": 21,
   "id": "f7d27a17",
   "metadata": {},
   "outputs": [],
   "source": [
    "dtree=DecisionTreeClassifier(max_leaf_nodes=7, max_depth=6, min_samples_leaf=5, ccp_alpha=0.00026359)"
   ]
  },
  {
   "cell_type": "code",
   "execution_count": 22,
   "id": "b9adab37",
   "metadata": {},
   "outputs": [],
   "source": [
    "classifier = dtree.fit(x_train_smote, y_train_smote)"
   ]
  },
  {
   "cell_type": "code",
   "execution_count": 23,
   "id": "e54e901c",
   "metadata": {},
   "outputs": [],
   "source": [
    "pred_tree=classifier.predict(x_test)"
   ]
  },
  {
   "cell_type": "code",
   "execution_count": 24,
   "id": "015e3680",
   "metadata": {},
   "outputs": [
    {
     "data": {
      "text/html": [
       "<div>\n",
       "<style scoped>\n",
       "    .dataframe tbody tr th:only-of-type {\n",
       "        vertical-align: middle;\n",
       "    }\n",
       "\n",
       "    .dataframe tbody tr th {\n",
       "        vertical-align: top;\n",
       "    }\n",
       "\n",
       "    .dataframe thead th {\n",
       "        text-align: right;\n",
       "    }\n",
       "</style>\n",
       "<table border=\"1\" class=\"dataframe\">\n",
       "  <thead>\n",
       "    <tr style=\"text-align: right;\">\n",
       "      <th>col_0</th>\n",
       "      <th>0.0</th>\n",
       "      <th>1.0</th>\n",
       "    </tr>\n",
       "    <tr>\n",
       "      <th>target</th>\n",
       "      <th></th>\n",
       "      <th></th>\n",
       "    </tr>\n",
       "  </thead>\n",
       "  <tbody>\n",
       "    <tr>\n",
       "      <th>0.0</th>\n",
       "      <td>5340</td>\n",
       "      <td>1207</td>\n",
       "    </tr>\n",
       "    <tr>\n",
       "      <th>1.0</th>\n",
       "      <td>72</td>\n",
       "      <td>798</td>\n",
       "    </tr>\n",
       "  </tbody>\n",
       "</table>\n",
       "</div>"
      ],
      "text/plain": [
       "col_0    0.0   1.0\n",
       "target            \n",
       "0.0     5340  1207\n",
       "1.0       72   798"
      ]
     },
     "execution_count": 24,
     "metadata": {},
     "output_type": "execute_result"
    }
   ],
   "source": [
    "pd.crosstab(y_test.reset_index(drop=True), pred_tree)"
   ]
  },
  {
   "cell_type": "code",
   "execution_count": 25,
   "id": "e4a82310",
   "metadata": {},
   "outputs": [
    {
     "data": {
      "text/plain": [
       "0.8275583119859782"
      ]
     },
     "execution_count": 25,
     "metadata": {},
     "output_type": "execute_result"
    }
   ],
   "source": [
    "metrics.accuracy_score(y_test, pred_tree > 0.5)"
   ]
  },
  {
   "cell_type": "code",
   "execution_count": 26,
   "id": "7a4935d4",
   "metadata": {},
   "outputs": [
    {
     "name": "stdout",
     "output_type": "stream",
     "text": [
      "Precision:  0.3980049875311721\n"
     ]
    }
   ],
   "source": [
    "print(\"Precision: \", metrics.precision_score(y_test, pred_tree > 0.5))"
   ]
  },
  {
   "cell_type": "code",
   "execution_count": 27,
   "id": "4ed14da7",
   "metadata": {},
   "outputs": [
    {
     "name": "stdout",
     "output_type": "stream",
     "text": [
      "Recall:  0.9172413793103448\n"
     ]
    }
   ],
   "source": [
    "print(\"Recall: \", metrics.recall_score(y_test, pred_tree))"
   ]
  },
  {
   "cell_type": "code",
   "execution_count": 28,
   "id": "6bc62d83",
   "metadata": {},
   "outputs": [],
   "source": [
    "from joblib import dump"
   ]
  },
  {
   "cell_type": "code",
   "execution_count": 29,
   "id": "effe1e80",
   "metadata": {},
   "outputs": [
    {
     "data": {
      "text/plain": [
       "['E:/Django/SavedModels/classifier.joblib']"
      ]
     },
     "execution_count": 29,
     "metadata": {},
     "output_type": "execute_result"
    }
   ],
   "source": [
    "dump(classifier, 'E:/Django/SavedModels/classifier.joblib')"
   ]
  },
  {
   "cell_type": "code",
   "execution_count": null,
   "id": "85d41033",
   "metadata": {},
   "outputs": [],
   "source": []
  }
 ],
 "metadata": {
  "kernelspec": {
   "display_name": "Python 3 (ipykernel)",
   "language": "python",
   "name": "python3"
  },
  "language_info": {
   "codemirror_mode": {
    "name": "ipython",
    "version": 3
   },
   "file_extension": ".py",
   "mimetype": "text/x-python",
   "name": "python",
   "nbconvert_exporter": "python",
   "pygments_lexer": "ipython3",
   "version": "3.9.12"
  }
 },
 "nbformat": 4,
 "nbformat_minor": 5
}
